{
 "cells": [
  {
   "cell_type": "code",
   "execution_count": null,
   "metadata": {},
   "outputs": [],
   "source": [
    "'''\n",
    "1.The process of achieving specific predictions\n",
    "2.An example of a prediction is provided for train 1S41.\n",
    "'''"
   ]
  },
  {
   "cell_type": "code",
   "execution_count": 28,
   "metadata": {
    "colab": {},
    "colab_type": "code",
    "executionInfo": {
     "elapsed": 1183,
     "status": "ok",
     "timestamp": 1598229279689,
     "user": {
      "displayName": "NI苦いレモン",
      "photoUrl": "https://lh3.googleusercontent.com/a-/AOh14GgSyBMLE6Padbqm6Qh4UixahIUp2ck4qnm01XN6=s64",
      "userId": "12819622444484462570"
     },
     "user_tz": -60
    },
    "id": "dy56ZBHGX8Ka"
   },
   "outputs": [],
   "source": [
    "import pandas as pd\n",
    "import numpy as np\n",
    "import tensorflow as tf\n",
    "from tensorflow import keras\n",
    "from xgboost import XGBClassifier as XGBC\n",
    "from sklearn.externals import joblib\n",
    "from sklearn import preprocessing"
   ]
  },
  {
   "cell_type": "code",
   "execution_count": 29,
   "metadata": {
    "colab": {
     "base_uri": "https://localhost:8080/",
     "height": 773
    },
    "colab_type": "code",
    "collapsed": true,
    "executionInfo": {
     "elapsed": 752,
     "status": "ok",
     "timestamp": 1598229280883,
     "user": {
      "displayName": "NI苦いレモン",
      "photoUrl": "https://lh3.googleusercontent.com/a-/AOh14GgSyBMLE6Padbqm6Qh4UixahIUp2ck4qnm01XN6=s64",
      "userId": "12819622444484462570"
     },
     "user_tz": -60
    },
    "id": "bvd44a1pX_Qj",
    "jupyter": {
     "outputs_hidden": true
    },
    "outputId": "ea4ae41f-475c-44be-f870-e5cf711777d9"
   },
   "outputs": [
    {
     "name": "stdout",
     "output_type": "stream",
     "text": [
      "Drive already mounted at /content/drive; to attempt to forcibly remount, call drive.mount(\"/content/drive\", force_remount=True).\n"
     ]
    },
    {
     "data": {
      "text/plain": [
       "['installbackupandsync.exe',\n",
       " 'sample_submission.csv',\n",
       " 'test_clean_kalman.csv',\n",
       " 'train_clean_kalman.csv',\n",
       " 'open-data-fin.csv',\n",
       " 'Colab Notebooks',\n",
       " 'Andrew_tensorflow_leeson',\n",
       " 'newtrain.csv',\n",
       " 'newtrain2.csv',\n",
       " 'newtrain3.csv',\n",
       " 'datawithpr_withtrainid.csv',\n",
       " 'datawithpr_havepr.csv',\n",
       " 'datapr1.0.csv',\n",
       " 'datapr_planC.csv',\n",
       " 'planC_with_state.csv',\n",
       " 'full_data_with_state.csv',\n",
       " 'T1K11_2.csv',\n",
       " 'save',\n",
       " 'Model',\n",
       " 'LSTM',\n",
       " 'lstm_model.h5',\n",
       " 'new_clear_data.csv',\n",
       " 'pdfullindex.csv',\n",
       " 'datawithstate.csv',\n",
       " '120000_pd_pr_train_id.csv',\n",
       " '150000_pd_pr_train_id.csv',\n",
       " '180000_pd_pr_train_id.csv',\n",
       " '210000_pd_pr_train_id.csv',\n",
       " '240000_pd_pr_train_id.csv',\n",
       " '270000_pd_pr_train_id.csv',\n",
       " '300000_pd_pr_train_id.csv',\n",
       " 'pd_full_pr_train_id.csv',\n",
       " 'newderby_datawithca0.csv',\n",
       " 'lstm_fullpred_model.h5',\n",
       " 'new_testdata_with_ca.csv',\n",
       " 'full_testdata_with_ca_state.csv',\n",
       " 'open-data-2-derby.csv',\n",
       " '1M00_softmax.h5',\n",
       " '1S41_simpleRNN.h5',\n",
       " 'lstm_fullpred_model_vs.h5',\n",
       " 'simpleRNN_fullpred_model_vs.h5']"
      ]
     },
     "execution_count": 29,
     "metadata": {
      "tags": []
     },
     "output_type": "execute_result"
    }
   ],
   "source": [
    "import os\n",
    "from google.colab import drive\n",
    "drive.mount('/content/drive')\n",
    "\n",
    "path = \"/content/drive/My Drive\"\n",
    "\n",
    "os.chdir(path)\n",
    "os.listdir(path)"
   ]
  },
  {
   "cell_type": "code",
   "execution_count": null,
   "metadata": {
    "colab": {},
    "colab_type": "code",
    "id": "zjb0o6BoYClx"
   },
   "outputs": [],
   "source": []
  },
  {
   "cell_type": "code",
   "execution_count": null,
   "metadata": {
    "colab": {},
    "colab_type": "code",
    "id": "qLRxqN9HYiwx"
   },
   "outputs": [],
   "source": [
    "'''\n",
    "1.The process of achieving specific predictions\n",
    "'''"
   ]
  },
  {
   "cell_type": "code",
   "execution_count": null,
   "metadata": {
    "colab": {},
    "colab_type": "code",
    "id": "PzBl_EasYi30"
   },
   "outputs": [],
   "source": [
    "#LSTM pre-processing"
   ]
  },
  {
   "cell_type": "code",
   "execution_count": 30,
   "metadata": {
    "colab": {},
    "colab_type": "code",
    "executionInfo": {
     "elapsed": 928,
     "status": "ok",
     "timestamp": 1598229294197,
     "user": {
      "displayName": "NI苦いレモン",
      "photoUrl": "https://lh3.googleusercontent.com/a-/AOh14GgSyBMLE6Padbqm6Qh4UixahIUp2ck4qnm01XN6=s64",
      "userId": "12819622444484462570"
     },
     "user_tz": -60
    },
    "id": "PEtLLmYjYi_N"
   },
   "outputs": [],
   "source": [
    "def get_dict_(data,train_ID):\n",
    "    data1=data[data['Train_ID']==train_ID]\n",
    "    timestamp=[]\n",
    "    for i in data1['Timestamp'].tolist():\n",
    "        timestamp.append(i[0:2])\n",
    "    data1['Timestamp']=timestamp\n",
    "\n",
    "\n",
    "    data1=data1.iloc[:,0:4]\n",
    "    data1.drop('ID',inplace=True,axis=1)\n",
    "    data1.index= range(0,len(data1))\n",
    "\n",
    "    event2=data1['Event2'].tolist()\n",
    "    new_event=[]\n",
    "    for i in event2:\n",
    "        if i[0:3]=='RDY':\n",
    "            new_event.append('RDY0'+i[3:6])\n",
    "        elif i[0]=='R':\n",
    "            new_event.append(i[0:7])\n",
    "        else:\n",
    "            new_event.append(i)\n",
    "    data1['Event2']=new_event\n",
    "    data1 = data1[data1['Type'].isin(['CA','Panel Request'])]\n",
    "    all_sentence=data1['Event2'].tolist()\n",
    "    allevent=data1['Event2'].unique().tolist()\n",
    "\n",
    "    idx2char = np.array(allevent)\n",
    "    char2idx={char:idx for idx,char in enumerate(allevent)}\n",
    "\n",
    "    index_record=data1.index\n",
    "\n",
    "    alls_with_index=[]\n",
    "    each=[]\n",
    "    for j in range(0,len(data1)):\n",
    "        each=[all_sentence[j],index_record[j]]\n",
    "        alls_with_index.append(each)\n",
    "\n",
    "    length=len(data1)\n",
    "\n",
    "    return allevent,new_event,alls_with_index,length"
   ]
  },
  {
   "cell_type": "code",
   "execution_count": null,
   "metadata": {},
   "outputs": [],
   "source": [
    "# Predictive function"
   ]
  },
  {
   "cell_type": "code",
   "execution_count": 31,
   "metadata": {
    "colab": {},
    "colab_type": "code",
    "executionInfo": {
     "elapsed": 730,
     "status": "ok",
     "timestamp": 1598229297542,
     "user": {
      "displayName": "NI苦いレモン",
      "photoUrl": "https://lh3.googleusercontent.com/a-/AOh14GgSyBMLE6Padbqm6Qh4UixahIUp2ck4qnm01XN6=s64",
      "userId": "12819622444484462570"
     },
     "user_tz": -60
    },
    "id": "SS0n-uE1YlWK"
   },
   "outputs": [],
   "source": [
    "def pred_pr(model, pre_message,char2idx,idx2char,num_generate = 1):\n",
    "    input_eval = [char2idx[ch] for ch in pre_message]\n",
    "    input_eval = tf.expand_dims(input_eval, 0)\n",
    "    \n",
    "    pred_pr = []\n",
    "    model.reset_states()\n",
    "\n",
    "    temperature = 0.5\n",
    "    \n",
    "    for _ in range(num_generate):\n",
    "        predictions = model(input_eval)\n",
    "        predictions = predictions / temperature\n",
    "        predictions = tf.squeeze(predictions, 0)\n",
    "        predicted_id = tf.random.categorical(\n",
    "            predictions, num_samples = 1)[-1, 0].numpy()\n",
    "        pred_pr.append(idx2char[predicted_id])\n",
    "        input_eval = tf.expand_dims([predicted_id], 0)\n",
    "    return pred_pr"
   ]
  },
  {
   "cell_type": "code",
   "execution_count": null,
   "metadata": {},
   "outputs": [],
   "source": [
    "# Get LSTM predictions results"
   ]
  },
  {
   "cell_type": "code",
   "execution_count": 32,
   "metadata": {
    "colab": {},
    "colab_type": "code",
    "executionInfo": {
     "elapsed": 783,
     "status": "ok",
     "timestamp": 1598229302946,
     "user": {
      "displayName": "NI苦いレモン",
      "photoUrl": "https://lh3.googleusercontent.com/a-/AOh14GgSyBMLE6Padbqm6Qh4UixahIUp2ck4qnm01XN6=s64",
      "userId": "12819622444484462570"
     },
     "user_tz": -60
    },
    "id": "oaHi3GPUYlO1"
   },
   "outputs": [],
   "source": [
    "def get_lstm_result(train_ID,data,test_seq):\n",
    "\n",
    "    allevent,new_event,alls_with_index,length = get_dict_(data,'1S41')\n",
    "    idx2char = np.array(allevent)\n",
    "    char2idx={char:idx for idx,char in enumerate(allevent)}\n",
    "    all_sentence=[]\n",
    "    for i in alls_with_index:\n",
    "        all_sentence.append(i[0])\n",
    "\n",
    "    vocab_size = len(allevent)\n",
    "    if int(length/200)*8 ==0:\n",
    "        bs=8\n",
    "    else:\n",
    "        bs=int(length/200)*8\n",
    "\n",
    "    batch_size = bs\n",
    "    embedding_dim = 256\n",
    "    rnn_units = 1024\n",
    "    def build_model(vocab_size, embedding_dim, rnn_units, batch_size):\n",
    "        model = keras.models.Sequential([\n",
    "          keras.layers.Embedding(vocab_size, embedding_dim,\n",
    "                                batch_input_shape = [batch_size, None]),\n",
    "          keras.layers.LSTM(units = rnn_units,\n",
    "                            stateful = True,\n",
    "                            recurrent_initializer = 'glorot_uniform',\n",
    "                            return_sequences = True),\n",
    "          keras.layers.Dense(vocab_size),\n",
    "      ])\n",
    "        return model\n",
    "\n",
    "\n",
    "    model_lstm = build_model(vocab_size,\n",
    "                embedding_dim,\n",
    "                rnn_units,\n",
    "                batch_size = 1)\n",
    "    model_lstm.load_weights('LSTM/'+train_ID+'_lstm_model.h5')\n",
    "    model_lstm.build(tf.TensorShape([1, None]))\n",
    "\n",
    "    predpr=pred_pr(model_lstm, test_seq,char2idx,idx2char,num_generate = 1)[0]\n",
    "    return predpr"
   ]
  },
  {
   "cell_type": "code",
   "execution_count": null,
   "metadata": {
    "colab": {},
    "colab_type": "code",
    "id": "Um3Y2gppZ4PP"
   },
   "outputs": [],
   "source": []
  },
  {
   "cell_type": "code",
   "execution_count": null,
   "metadata": {
    "colab": {},
    "colab_type": "code",
    "id": "LC7PgRA8ZcmA"
   },
   "outputs": [],
   "source": []
  },
  {
   "cell_type": "code",
   "execution_count": null,
   "metadata": {
    "colab": {},
    "colab_type": "code",
    "id": "7Rb2XAfmZctV"
   },
   "outputs": [],
   "source": [
    "#XGboost pre-processing"
   ]
  },
  {
   "cell_type": "code",
   "execution_count": 33,
   "metadata": {
    "colab": {},
    "colab_type": "code",
    "executionInfo": {
     "elapsed": 744,
     "status": "ok",
     "timestamp": 1598229306469,
     "user": {
      "displayName": "NI苦いレモン",
      "photoUrl": "https://lh3.googleusercontent.com/a-/AOh14GgSyBMLE6Padbqm6Qh4UixahIUp2ck4qnm01XN6=s64",
      "userId": "12819622444484462570"
     },
     "user_tz": -60
    },
    "id": "uiHPfL4Zd1Wf"
   },
   "outputs": [],
   "source": [
    "def get_xg_test_data(data,train_ID):\n",
    "    data1=data[data['Train_ID']=='1S41']\n",
    "    data1.index=range(0,len(data1))\n",
    "\n",
    "    new_ID=[]\n",
    "    ID_un = data1['ID'].unique().tolist()\n",
    "    for i in ID_un:\n",
    "        if i[0]=='B':\n",
    "            new_ID.append(i[1:5])\n",
    "        elif i[0:3]=='RDY' :\n",
    "            new_ID.append('0'+i[3:6])\n",
    "        elif i[0]=='R':\n",
    "            new_ID.append(i[3:7])\n",
    "        elif i[0:3]=='SDY':\n",
    "            new_ID.append('0'+i[3:6])\n",
    "        elif i[0]=='S':\n",
    "            new_ID.append(i[3:7])\n",
    "        new_ID_un=[]\n",
    "    for i in new_ID:\n",
    "        if i not in new_ID_un:\n",
    "            new_ID_un.append(i)\n",
    "\n",
    "    new_ID_un.sort()\n",
    "\n",
    "    for j in new_ID_un:\n",
    "        data1[j]=0\n",
    "\n",
    "    data1[train_ID]=1\n",
    "    data1.drop(['Train_ID'],inplace=True,axis=1)\n",
    "\n",
    "    return data1"
   ]
  },
  {
   "cell_type": "code",
   "execution_count": 35,
   "metadata": {
    "colab": {},
    "colab_type": "code",
    "executionInfo": {
     "elapsed": 922,
     "status": "ok",
     "timestamp": 1598229312128,
     "user": {
      "displayName": "NI苦いレモン",
      "photoUrl": "https://lh3.googleusercontent.com/a-/AOh14GgSyBMLE6Padbqm6Qh4UixahIUp2ck4qnm01XN6=s64",
      "userId": "12819622444484462570"
     },
     "user_tz": -60
    },
    "id": "EN5eOENWd7iS"
   },
   "outputs": [],
   "source": [
    "def get_ydata(train_ID,data):\n",
    "    train1=data[data['Train_ID']==train_ID]\n",
    "    train1['Timestamp']=range(1,len(train1)+1)\n",
    "\n",
    "    def get_unique_pr_with0(train_ID,data):\n",
    "    train1=data[data['Train_ID']==train_ID]\n",
    "    new_ID=get_ID_withroute(train1['ID'].tolist()) \n",
    "\n",
    "    type1= train1['Type'].tolist()\n",
    "    pr_type=[]\n",
    "\n",
    "    for i in range(0,len(type1)):\n",
    "        if type1[i]=='Panel Request':\n",
    "            pr_type.append(new_ID[i])\n",
    "        else:\n",
    "            pr_type.append(0)\n",
    "\n",
    "    pr_unique=[]\n",
    "    for j in pr_type:\n",
    "        if (j != 0)and (j not in pr_unique):\n",
    "            pr_unique.append(j)\n",
    "\n",
    "\n",
    "    return pr_unique,pr_type\n",
    "\n",
    "    def get_ID_withroute(ID_data):\n",
    "        new_ID=[]\n",
    "        for i in ID_data:\n",
    "            if i[0]=='B':\n",
    "                new_ID.append(i[1:5])\n",
    "            elif i[0:3]=='RDY' :\n",
    "                new_ID.append(i)\n",
    "            elif i[0]=='R':\n",
    "                new_ID.append(i)\n",
    "            elif i[0:3]=='SDY':\n",
    "                new_ID.append('0'+i[3:6])\n",
    "            elif i[0]=='S':\n",
    "                new_ID.append(i[3:7])\n",
    "        return new_ID  \n",
    "\n",
    "    \n",
    "    train1.drop(['State','Panel_Request','From_Berth','To_Berth'],inplace=True,axis=1)\n",
    "\n",
    "    pr_unique,pr_type=get_unique_pr_with0(train_ID,data)\n",
    "\n",
    "    pr_type_list=[]\n",
    "    each=[]\n",
    "    for i in pr_unique:\n",
    "        each=[i,pr_unique.index(i)+1]\n",
    "        pr_type_list.append(each)   \n",
    "    return pr_type_list"
   ]
  },
  {
   "cell_type": "code",
   "execution_count": null,
   "metadata": {},
   "outputs": [],
   "source": [
    "# Get XGBOOST predictions results\n",
    "# Joint the predictions of lstm and xgboost for the final result"
   ]
  },
  {
   "cell_type": "code",
   "execution_count": 34,
   "metadata": {
    "colab": {},
    "colab_type": "code",
    "executionInfo": {
     "elapsed": 748,
     "status": "ok",
     "timestamp": 1598229308850,
     "user": {
      "displayName": "NI苦いレモン",
      "photoUrl": "https://lh3.googleusercontent.com/a-/AOh14GgSyBMLE6Padbqm6Qh4UixahIUp2ck4qnm01XN6=s64",
      "userId": "12819622444484462570"
     },
     "user_tz": -60
    },
    "id": "Zm788sMVd7Su"
   },
   "outputs": [],
   "source": [
    "def get_xgb_result(train_ID,data,feature_change,index_test):\n",
    "    data1=get_xg_test_data(data,train_ID)\n",
    "    pd_testdata=pd.DataFrame(data1.iloc[index_test])\n",
    "    testdata_ = pd_testdata.T\n",
    "    testdata_=testdata_.iloc[:,8:]\n",
    "\n",
    "\n",
    "\n",
    "    testcol=testdata_.columns.tolist()\n",
    "    testcol\n",
    "\n",
    "    for i in range(0,len(testcol)):\n",
    "        if testcol[i][0]=='S':\n",
    "            lbl = preprocessing.LabelEncoder()\n",
    "            testdata_[testcol[i]] = lbl.fit_transform(testdata_[testcol[i]].astype(int))\n",
    "        else:\n",
    "            lbl = preprocessing.LabelEncoder()\n",
    "            testdata_[testcol[i]] = lbl.fit_transform(testdata_[testcol[i]].astype(float))\n",
    "\n",
    "    testdata_[feature_change].replace(testdata_[feature_change][index_test],1,inplace=True)\n",
    "    loaded_model = joblib.load('save/'+train_ID+'_real_pr.pkl')\n",
    "    ypred = loaded_model.predict(testdata_)\n",
    "\n",
    "    pr_type_list=get_ydata(train_ID,data)\n",
    "\n",
    "    for i in pr_type_list:\n",
    "        if i[1]==ypred[0]:\n",
    "            xgb_result=i[0]\n",
    "\n",
    "    return xgb_result"
   ]
  },
  {
   "cell_type": "code",
   "execution_count": null,
   "metadata": {
    "colab": {},
    "colab_type": "code",
    "id": "J9h5qZwXyENi"
   },
   "outputs": [],
   "source": []
  },
  {
   "cell_type": "code",
   "execution_count": null,
   "metadata": {},
   "outputs": [],
   "source": [
    "# Wrapping the entire prediction process into functions"
   ]
  },
  {
   "cell_type": "code",
   "execution_count": 54,
   "metadata": {
    "colab": {},
    "colab_type": "code",
    "executionInfo": {
     "elapsed": 731,
     "status": "ok",
     "timestamp": 1598230373204,
     "user": {
      "displayName": "NI苦いレモン",
      "photoUrl": "https://lh3.googleusercontent.com/a-/AOh14GgSyBMLE6Padbqm6Qh4UixahIUp2ck4qnm01XN6=s64",
      "userId": "12819622444484462570"
     },
     "user_tz": -60
    },
    "id": "5U1vbZrBnE5Y"
   },
   "outputs": [],
   "source": [
    "def get_result(train_ID,data,test_seq,index_test_seq):\n",
    "    position_pr=get_lstm_result(train_ID,data,test_seq)           # Gets the results of the LSTM\n",
    "    if position_pr[0]=='R':                         # If the LSTM predicts that Panel_Request will follow, call XgBoost to predict it \n",
    "        feature_change=position_pr[3:7]                   # Get LSTM results as features\n",
    "        index_test=index_test_seq[-1]                     # Use the last data as a location marker to issue PR\n",
    "        result = get_xgb_result(train_ID,data,feature_change,index_test)  # Get the final prediction results\n",
    "        return result\n",
    "    else:\n",
    "        print('No panel requests are required')             # if Panel_Request is not required. Print this sentence"
   ]
  },
  {
   "cell_type": "code",
   "execution_count": null,
   "metadata": {
    "colab": {},
    "colab_type": "code",
    "id": "bPn2tQiw9juB"
   },
   "outputs": [],
   "source": []
  },
  {
   "cell_type": "code",
   "execution_count": null,
   "metadata": {},
   "outputs": [],
   "source": []
  },
  {
   "cell_type": "code",
   "execution_count": null,
   "metadata": {},
   "outputs": [],
   "source": []
  },
  {
   "cell_type": "code",
   "execution_count": null,
   "metadata": {
    "colab": {},
    "colab_type": "code",
    "id": "pgg0SzPa9j4i"
   },
   "outputs": [],
   "source": [
    "'''\n",
    "2.An example of a prediction is provided for train 1S41.\n",
    "'''"
   ]
  },
  {
   "cell_type": "code",
   "execution_count": null,
   "metadata": {},
   "outputs": [],
   "source": [
    "# Two examples of predictions"
   ]
  },
  {
   "cell_type": "code",
   "execution_count": 36,
   "metadata": {
    "colab": {},
    "colab_type": "code",
    "executionInfo": {
     "elapsed": 4768,
     "status": "ok",
     "timestamp": 1598229320356,
     "user": {
      "displayName": "NI苦いレモン",
      "photoUrl": "https://lh3.googleusercontent.com/a-/AOh14GgSyBMLE6Padbqm6Qh4UixahIUp2ck4qnm01XN6=s64",
      "userId": "12819622444484462570"
     },
     "user_tz": -60
    },
    "id": "mEtuWa69wyD0"
   },
   "outputs": [],
   "source": [
    "data = pd.read_csv('full_data_with_state.csv',index_col= 0)"
   ]
  },
  {
   "cell_type": "code",
   "execution_count": 58,
   "metadata": {
    "colab": {},
    "colab_type": "code",
    "executionInfo": {
     "elapsed": 747,
     "status": "ok",
     "timestamp": 1598230474254,
     "user": {
      "displayName": "NI苦いレモン",
      "photoUrl": "https://lh3.googleusercontent.com/a-/AOh14GgSyBMLE6Padbqm6Qh4UixahIUp2ck4qnm01XN6=s64",
      "userId": "12819622444484462570"
     },
     "user_tz": -60
    },
    "id": "JkTOWBtLuqoE"
   },
   "outputs": [],
   "source": [
    "#The test sequence here is actually the event in the data, but only the event of the CA data left behind\n",
    "test_seq1=['CAB0586BC833',\n",
    " 'CABC833BDMLS',\n",
    " 'CABAPUTBB305',\n",
    " 'RDW5328',\n",
    " 'CABB305B5332']\n",
    "\n",
    "index_test_seq1=[34,35,36,37,39]"
   ]
  },
  {
   "cell_type": "code",
   "execution_count": 59,
   "metadata": {
    "colab": {
     "base_uri": "https://localhost:8080/",
     "height": 521
    },
    "colab_type": "code",
    "executionInfo": {
     "elapsed": 1859,
     "status": "ok",
     "timestamp": 1598230476601,
     "user": {
      "displayName": "NI苦いレモン",
      "photoUrl": "https://lh3.googleusercontent.com/a-/AOh14GgSyBMLE6Padbqm6Qh4UixahIUp2ck4qnm01XN6=s64",
      "userId": "12819622444484462570"
     },
     "user_tz": -60
    },
    "id": "K4G8YS-u6QjT",
    "outputId": "cff30366-2b3e-466a-b013-875e843f9ea1"
   },
   "outputs": [
    {
     "name": "stderr",
     "output_type": "stream",
     "text": [
      "/usr/local/lib/python3.6/dist-packages/ipykernel_launcher.py:6: SettingWithCopyWarning: \n",
      "A value is trying to be set on a copy of a slice from a DataFrame.\n",
      "Try using .loc[row_indexer,col_indexer] = value instead\n",
      "\n",
      "See the caveats in the documentation: https://pandas.pydata.org/pandas-docs/stable/user_guide/indexing.html#returning-a-view-versus-a-copy\n",
      "  \n",
      "/usr/local/lib/python3.6/dist-packages/ipykernel_launcher.py:26: SettingWithCopyWarning: \n",
      "A value is trying to be set on a copy of a slice from a DataFrame.\n",
      "Try using .loc[row_indexer,col_indexer] = value instead\n",
      "\n",
      "See the caveats in the documentation: https://pandas.pydata.org/pandas-docs/stable/user_guide/indexing.html#returning-a-view-versus-a-copy\n",
      "/usr/local/lib/python3.6/dist-packages/ipykernel_launcher.py:28: SettingWithCopyWarning: \n",
      "A value is trying to be set on a copy of a slice from a DataFrame.\n",
      "Try using .loc[row_indexer,col_indexer] = value instead\n",
      "\n",
      "See the caveats in the documentation: https://pandas.pydata.org/pandas-docs/stable/user_guide/indexing.html#returning-a-view-versus-a-copy\n",
      "/usr/local/lib/python3.6/dist-packages/pandas/core/frame.py:3997: SettingWithCopyWarning: \n",
      "A value is trying to be set on a copy of a slice from a DataFrame\n",
      "\n",
      "See the caveats in the documentation: https://pandas.pydata.org/pandas-docs/stable/user_guide/indexing.html#returning-a-view-versus-a-copy\n",
      "  errors=errors,\n",
      "/usr/local/lib/python3.6/dist-packages/ipykernel_launcher.py:3: SettingWithCopyWarning: \n",
      "A value is trying to be set on a copy of a slice from a DataFrame.\n",
      "Try using .loc[row_indexer,col_indexer] = value instead\n",
      "\n",
      "See the caveats in the documentation: https://pandas.pydata.org/pandas-docs/stable/user_guide/indexing.html#returning-a-view-versus-a-copy\n",
      "  This is separate from the ipykernel package so we can avoid doing imports until\n"
     ]
    },
    {
     "data": {
      "application/vnd.google.colaboratory.intrinsic+json": {
       "type": "string"
      },
      "text/plain": [
       "'RDW5324A(M)'"
      ]
     },
     "execution_count": 59,
     "metadata": {
      "tags": []
     },
     "output_type": "execute_result"
    }
   ],
   "source": [
    "result= get_result('1S41',data,test_seq1,index_test_seq1)\n",
    "result"
   ]
  },
  {
   "cell_type": "code",
   "execution_count": 60,
   "metadata": {
    "colab": {},
    "colab_type": "code",
    "executionInfo": {
     "elapsed": 1564,
     "status": "ok",
     "timestamp": 1598230489997,
     "user": {
      "displayName": "NI苦いレモン",
      "photoUrl": "https://lh3.googleusercontent.com/a-/AOh14GgSyBMLE6Padbqm6Qh4UixahIUp2ck4qnm01XN6=s64",
      "userId": "12819622444484462570"
     },
     "user_tz": -60
    },
    "id": "sqHVrBR9nE3B"
   },
   "outputs": [],
   "source": [
    "test_seq2=['CAB0574B0584',\n",
    " 'CAB0584B0586',\n",
    " 'CAB0586BC833',\n",
    " 'CABC833BDMLS',\n",
    " 'CABAPUTBB305',\n",
    " 'RDW5328',\n",
    " 'CABB305B5332',\n",
    " 'RDW5324',\n",
    " 'CAB5332B5330']\n",
    "\n",
    "index_test_seq2=[32,33,34,35,36,37,39,40,43]"
   ]
  },
  {
   "cell_type": "code",
   "execution_count": 61,
   "metadata": {
    "colab": {
     "base_uri": "https://localhost:8080/",
     "height": 521
    },
    "colab_type": "code",
    "executionInfo": {
     "elapsed": 3130,
     "status": "ok",
     "timestamp": 1598230493590,
     "user": {
      "displayName": "NI苦いレモン",
      "photoUrl": "https://lh3.googleusercontent.com/a-/AOh14GgSyBMLE6Padbqm6Qh4UixahIUp2ck4qnm01XN6=s64",
      "userId": "12819622444484462570"
     },
     "user_tz": -60
    },
    "id": "xLNtLtQXuqdr",
    "outputId": "0ed6af6d-9273-40f5-d453-20bc69aab0c3"
   },
   "outputs": [
    {
     "name": "stderr",
     "output_type": "stream",
     "text": [
      "/usr/local/lib/python3.6/dist-packages/ipykernel_launcher.py:6: SettingWithCopyWarning: \n",
      "A value is trying to be set on a copy of a slice from a DataFrame.\n",
      "Try using .loc[row_indexer,col_indexer] = value instead\n",
      "\n",
      "See the caveats in the documentation: https://pandas.pydata.org/pandas-docs/stable/user_guide/indexing.html#returning-a-view-versus-a-copy\n",
      "  \n",
      "/usr/local/lib/python3.6/dist-packages/ipykernel_launcher.py:26: SettingWithCopyWarning: \n",
      "A value is trying to be set on a copy of a slice from a DataFrame.\n",
      "Try using .loc[row_indexer,col_indexer] = value instead\n",
      "\n",
      "See the caveats in the documentation: https://pandas.pydata.org/pandas-docs/stable/user_guide/indexing.html#returning-a-view-versus-a-copy\n",
      "/usr/local/lib/python3.6/dist-packages/ipykernel_launcher.py:28: SettingWithCopyWarning: \n",
      "A value is trying to be set on a copy of a slice from a DataFrame.\n",
      "Try using .loc[row_indexer,col_indexer] = value instead\n",
      "\n",
      "See the caveats in the documentation: https://pandas.pydata.org/pandas-docs/stable/user_guide/indexing.html#returning-a-view-versus-a-copy\n",
      "/usr/local/lib/python3.6/dist-packages/pandas/core/frame.py:3997: SettingWithCopyWarning: \n",
      "A value is trying to be set on a copy of a slice from a DataFrame\n",
      "\n",
      "See the caveats in the documentation: https://pandas.pydata.org/pandas-docs/stable/user_guide/indexing.html#returning-a-view-versus-a-copy\n",
      "  errors=errors,\n",
      "/usr/local/lib/python3.6/dist-packages/ipykernel_launcher.py:3: SettingWithCopyWarning: \n",
      "A value is trying to be set on a copy of a slice from a DataFrame.\n",
      "Try using .loc[row_indexer,col_indexer] = value instead\n",
      "\n",
      "See the caveats in the documentation: https://pandas.pydata.org/pandas-docs/stable/user_guide/indexing.html#returning-a-view-versus-a-copy\n",
      "  This is separate from the ipykernel package so we can avoid doing imports until\n"
     ]
    },
    {
     "data": {
      "application/vnd.google.colaboratory.intrinsic+json": {
       "type": "string"
      },
      "text/plain": [
       "'RDW5316B(M)'"
      ]
     },
     "execution_count": 61,
     "metadata": {
      "tags": []
     },
     "output_type": "execute_result"
    }
   ],
   "source": [
    "result= get_result('1S41',data,test_seq2,index_test_seq2)\n",
    "result"
   ]
  },
  {
   "cell_type": "code",
   "execution_count": null,
   "metadata": {
    "colab": {},
    "colab_type": "code",
    "id": "pTbS95zH6Qqv"
   },
   "outputs": [],
   "source": []
  },
  {
   "cell_type": "code",
   "execution_count": null,
   "metadata": {
    "colab": {},
    "colab_type": "code",
    "id": "MKK3Cj4w6Qw7"
   },
   "outputs": [],
   "source": []
  }
 ],
 "metadata": {
  "colab": {
   "authorship_tag": "ABX9TyMJXI1DdiPeJd0bQmnDc2ic",
   "collapsed_sections": [],
   "name": "imple_pred_process.ipynb",
   "provenance": []
  },
  "kernelspec": {
   "display_name": "Python 3",
   "language": "python",
   "name": "python3"
  },
  "language_info": {
   "codemirror_mode": {
    "name": "ipython",
    "version": 3
   },
   "file_extension": ".py",
   "mimetype": "text/x-python",
   "name": "python",
   "nbconvert_exporter": "python",
   "pygments_lexer": "ipython3",
   "version": "3.8.2"
  }
 },
 "nbformat": 4,
 "nbformat_minor": 4
}
